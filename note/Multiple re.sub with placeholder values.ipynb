{
 "cells": [
  {
   "cell_type": "markdown",
   "metadata": {},
   "source": [
    "# 正規表現のたたき台\n",
    "\n",
    "## 目的\n",
    "- 自動敵にサンプル文字列から正規表現のたたき台をre.sub()で自動作成したい。\n",
    "\n",
    "## 問題\n",
    "- re.sub()を複数回実行すると変換済みの結果を再変換して想定通りの結果が得られない。\n",
    "\n",
    "## 対策\n",
    "- 仮変換を実施した後に、仮変換内容を変換し直すと重複した変換を回避できる。"
   ]
  },
  {
   "cell_type": "code",
   "execution_count": 1,
   "metadata": {},
   "outputs": [],
   "source": [
    "# ブラケットやカッコの中の表現を抽出する正規表現を自動作成したい。\n",
    "s = '[2021/4/25] The value changed from old(7) to new(8)!'"
   ]
  },
  {
   "cell_type": "code",
   "execution_count": 2,
   "metadata": {},
   "outputs": [],
   "source": [
    "# 仮変内容を辞書に保管する。\n",
    "d = {'\\[([^\\]]+)\\]': '★★★ブラケット★★★',\n",
    "     '\\(([^\\)]+)\\)': '★★★カッコ★★★'}"
   ]
  },
  {
   "cell_type": "code",
   "execution_count": 3,
   "metadata": {},
   "outputs": [
    {
     "name": "stdout",
     "output_type": "stream",
     "text": [
      "★★★ブラケット★★★ The value changed from old★★★カッコ★★★ to new★★★カッコ★★★!\n"
     ]
    }
   ],
   "source": [
    "# 仮変換を実行する。\n",
    "import re\n",
    "for k, v in d.items():\n",
    "    s = re.sub(k, v, s)\n",
    "print(s)"
   ]
  },
  {
   "cell_type": "code",
   "execution_count": 4,
   "metadata": {},
   "outputs": [
    {
     "name": "stdout",
     "output_type": "stream",
     "text": [
      "\\[([^\\]]+)\\] The value changed from old\\(([^\\)]+)\\) to new\\(([^\\)]+)\\)!\n"
     ]
    }
   ],
   "source": [
    "# 最終変換を実行する。\n",
    "for k, v in d.items():\n",
    "    s = s.replace(v, k)\n",
    "print(s)"
   ]
  },
  {
   "cell_type": "code",
   "execution_count": 5,
   "metadata": {},
   "outputs": [
    {
     "name": "stdout",
     "output_type": "stream",
     "text": [
      "('2021/4/25', '7', '8')\n"
     ]
    }
   ],
   "source": [
    "# 正規表現をテストする。\n",
    "ptn = re.compile('\\[([^\\]]+)\\] The value changed from old\\(([^\\)]+)\\) to new\\(([^\\)]+)\\)!')\n",
    "m = ptn.match('[2021/4/25] The value changed from old(7) to new(8)!')\n",
    "print(m.groups())"
   ]
  }
 ],
 "metadata": {
  "kernelspec": {
   "display_name": "Python 3",
   "language": "python",
   "name": "python3"
  },
  "language_info": {
   "codemirror_mode": {
    "name": "ipython",
    "version": 3
   },
   "file_extension": ".py",
   "mimetype": "text/x-python",
   "name": "python",
   "nbconvert_exporter": "python",
   "pygments_lexer": "ipython3",
   "version": "3.7.4"
  }
 },
 "nbformat": 4,
 "nbformat_minor": 2
}
