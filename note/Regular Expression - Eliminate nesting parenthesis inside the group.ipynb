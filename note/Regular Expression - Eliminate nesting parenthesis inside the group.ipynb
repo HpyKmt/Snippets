{
 "cells": [
  {
   "cell_type": "markdown",
   "metadata": {},
   "source": [
    "# 正規表現のグループ内部のカッコの排除\n",
    "- Group表現のカッコの中にOR等を実現する為にカッコがＮｅｓｔｉｎｇすると、検索結果が複雑になる。\n",
    "- 可能な限り、表現を単純化して、カッコのＮｅｓｔｉｎｇを排除する。"
   ]
  },
  {
   "cell_type": "code",
   "execution_count": 1,
   "metadata": {},
   "outputs": [],
   "source": [
    "import re\n",
    "s = '-14.7 + 5 = -9.7'"
   ]
  },
  {
   "cell_type": "code",
   "execution_count": 2,
   "metadata": {},
   "outputs": [
    {
     "name": "stdout",
     "output_type": "stream",
     "text": [
      "[('-14', '-'), ('7', ''), ('5', ''), ('-9', '-'), ('7', '')]\n"
     ]
    }
   ],
   "source": [
    "# グループ表現のカッコの中に、パイプでORを実店するために内部のカッコが存在する。\n",
    "ptn = re.compile('((-|)\\d+)')\n",
    "m = ptn.findall(s)\n",
    "# 結果的にリスト内に複数の合致アイテムがTupleで存在して混乱する。\n",
    "print(m)"
   ]
  },
  {
   "cell_type": "code",
   "execution_count": 3,
   "metadata": {},
   "outputs": [
    {
     "name": "stdout",
     "output_type": "stream",
     "text": [
      "['-14', '7', '5', '-9', '7']\n"
     ]
    }
   ],
   "source": [
    "# 表現を工夫して、カッコがNestingしないようにする。\n",
    "ptn = re.compile('(-\\d+|\\d+)')\n",
    "m = ptn.findall(s)\n",
    "print(m)"
   ]
  }
 ],
 "metadata": {
  "kernelspec": {
   "display_name": "Python 3",
   "language": "python",
   "name": "python3"
  },
  "language_info": {
   "codemirror_mode": {
    "name": "ipython",
    "version": 3
   },
   "file_extension": ".py",
   "mimetype": "text/x-python",
   "name": "python",
   "nbconvert_exporter": "python",
   "pygments_lexer": "ipython3",
   "version": "3.7.4"
  }
 },
 "nbformat": 4,
 "nbformat_minor": 2
}
