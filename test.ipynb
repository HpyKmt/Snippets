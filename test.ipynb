{
 "cells": [
  {
   "cell_type": "markdown",
   "metadata": {},
   "source": [
    "# Internal parenthesis"
   ]
  },
  {
   "cell_type": "code",
   "execution_count": 1,
   "metadata": {},
   "outputs": [],
   "source": [
    "import re\n",
    "s = '-14.7 + 5 = -9.7'"
   ]
  },
  {
   "cell_type": "code",
   "execution_count": 2,
   "metadata": {},
   "outputs": [
    {
     "name": "stdout",
     "output_type": "stream",
     "text": [
      "[('-14', '-'), ('7', ''), ('5', ''), ('-9', '-'), ('7', '')]\n"
     ]
    }
   ],
   "source": [
    "# Nested parenthesis creates confusing grouping result\n",
    "ptn = re.compile('((-|)\\d+)')\n",
    "m = ptn.findall(s)\n",
    "print(m)"
   ]
  },
  {
   "cell_type": "code",
   "execution_count": 3,
   "metadata": {},
   "outputs": [
    {
     "name": "stdout",
     "output_type": "stream",
     "text": [
      "['-14', '7', '5', '-9', '7']\n"
     ]
    }
   ],
   "source": [
    "# get creative and eliminate internal parenthesis for simple result\n",
    "ptn = re.compile('(-\\d+|\\d+)')\n",
    "m = ptn.findall(s)\n",
    "print(m)"
   ]
  },
  {
   "cell_type": "markdown",
   "metadata": {},
   "source": [
    "# Create regex pattern by replacing typical group pattern"
   ]
  },
  {
   "cell_type": "code",
   "execution_count": 39,
   "metadata": {},
   "outputs": [],
   "source": [
    "s = '[Time] This is a log: Value A(123)'"
   ]
  },
  {
   "cell_type": "code",
   "execution_count": 40,
   "metadata": {},
   "outputs": [
    {
     "name": "stdout",
     "output_type": "stream",
     "text": [
      "\\[([^\\]]+)\\] This is a log: Value A(123)\n"
     ]
    }
   ],
   "source": [
    "s = re.sub('\\[([^\\]]+)\\]', '\\[([^\\]]+)\\]', s)\n",
    "print(s)"
   ]
  },
  {
   "cell_type": "code",
   "execution_count": 43,
   "metadata": {},
   "outputs": [
    {
     "name": "stdout",
     "output_type": "stream",
     "text": [
      "\\[([^\\]]+)\\] This is a log: Value A(123)\n"
     ]
    }
   ],
   "source": [
    "s = re.sub('', '', s)\n",
    "print(s)"
   ]
  },
  {
   "cell_type": "code",
   "execution_count": 44,
   "metadata": {},
   "outputs": [
    {
     "data": {
      "text/plain": [
       "2"
      ]
     },
     "execution_count": 44,
     "metadata": {},
     "output_type": "execute_result"
    }
   ],
   "source": [
    "ptn = re.compile('\\[([^\\)]+)\\] This is a log: Value A\\(([^\\)]+)\\)')\n",
    "ptn.groups"
   ]
  },
  {
   "cell_type": "code",
   "execution_count": 45,
   "metadata": {},
   "outputs": [
    {
     "name": "stdout",
     "output_type": "stream",
     "text": [
      "('Time', '123')\n"
     ]
    }
   ],
   "source": [
    "m = ptn.match('[Time] This is a log: Value A(123)')\n",
    "print(m.groups())"
   ]
  },
  {
   "cell_type": "code",
   "execution_count": null,
   "metadata": {},
   "outputs": [],
   "source": []
  }
 ],
 "metadata": {
  "kernelspec": {
   "display_name": "Python 3",
   "language": "python",
   "name": "python3"
  },
  "language_info": {
   "codemirror_mode": {
    "name": "ipython",
    "version": 3
   },
   "file_extension": ".py",
   "mimetype": "text/x-python",
   "name": "python",
   "nbconvert_exporter": "python",
   "pygments_lexer": "ipython3",
   "version": "3.7.4"
  }
 },
 "nbformat": 4,
 "nbformat_minor": 2
}
